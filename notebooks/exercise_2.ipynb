{
  "nbformat": 4,
  "nbformat_minor": 0,
  "metadata": {
    "colab": {
      "provenance": []
    },
    "kernelspec": {
      "name": "python3",
      "display_name": "Python 3"
    }
  },
  "cells": [
    {
      "cell_type": "markdown",
      "metadata": {
        "id": "WU3XF_P-OMGT"
      },
      "source": [
        "#2. Making Senses of Data with the *k*-Means Clustering Algorithm\n",
        "\n",
        "In the second exercise, we will perform data clustering using the *k*-Means algorithm.\n",
        "\n",
        "\n",
        "\n",
        "\n"
      ]
    },
    {
      "cell_type": "markdown",
      "metadata": {
        "id": "RzjIx1f-dwX_"
      },
      "source": [
        "\n",
        "Before starting any task, execute the following import statements to load the necessary libraries. First, the library named **numpy** provides support for handling matrices and multi-dimensional arrays efficiently. It is often used with the alias `np` (aliases can be specified using `as`). The **operator** library supports using common operators as functions. Third, **matplotlib** offers various functionalities to draw line plots, scatter plots, histograms, and more. It is commonly used with the alias `plt`. Finally, the **random** library is used for generating random values and is often used with the alias `rd`.\n",
        "\n",
        "\n",
        "\n",
        "\n",
        "\n"
      ]
    },
    {
      "cell_type": "code",
      "metadata": {
        "id": "z0YlWkhbhZwG"
      },
      "source": [
        "import numpy as np\n",
        "import operator\n",
        "import matplotlib.pyplot as plt\n",
        "import random as rd"
      ],
      "execution_count": null,
      "outputs": []
    },
    {
      "cell_type": "markdown",
      "metadata": {
        "id": "TtDmHwHmpEpT"
      },
      "source": [
        "Next, define and execute the following function to generate a random dataset. The function `generate_random_data(N)` generates `N` random 2-dimensional data points.\n",
        "\n",
        "\n",
        "\n",
        "\n"
      ]
    },
    {
      "cell_type": "code",
      "metadata": {
        "colab": {
          "base_uri": "https://localhost:8080/",
          "height": 283
        },
        "id": "WIgVPh7-sYdU",
        "outputId": "23e03ff3-64d9-445a-a0b4-e4a88f550e65"
      },
      "source": [
        "# Function: generate_random_data()\n",
        "def generate_random_data(N=100):\n",
        "    \"\"\"\n",
        "    Generate a random dataset (multivariate normal)\n",
        "    Input: N - number of instances to create\n",
        "    Output: X - generated (synthetic) dataset\n",
        "    \"\"\"\n",
        "\n",
        "    means = [[0, 0], [3, 3], [0, 3], [3, 0]]\n",
        "    covs = [[[0.5, 0], [0, 0.1]], [[0.5, 0], [0, 0.5]],\n",
        "            [[0.5, 0], [0, 1.0]], [[0.3, 0], [0, 0.3]]]\n",
        "\n",
        "    X = np.zeros((N, 2))\n",
        "    for n in range(N):\n",
        "        seed = rd.randint(0, 3)\n",
        "        X[n] = np.random.multivariate_normal(means[seed], covs[seed])\n",
        "\n",
        "    return X\n",
        "\n",
        "# Using the default argument (N=100), execute the function and create the data variable X\n",
        "X = generate_random_data()\n",
        "\n",
        "# Visualize the generated data using a scatter plot\n",
        "plt.scatter(X[:,0], X[:,1], c='k')\n"
      ],
      "execution_count": null,
      "outputs": [
        {
          "output_type": "execute_result",
          "data": {
            "text/plain": [
              "<matplotlib.collections.PathCollection at 0x7f04c92a4490>"
            ]
          },
          "metadata": {},
          "execution_count": 2
        },
        {
          "output_type": "display_data",
          "data": {
            "text/plain": [
              "<Figure size 432x288 with 1 Axes>"
            ],
            "image/png": "[encoded data removed]"
          },
          "metadata": {
            "needs_background": "light"
          }
        }
      ]
    },
    {
      "cell_type": "code",
      "metadata": {
        "id": "Gc8RgXs2JhB4"
      },
      "source": [],
      "execution_count": null,
      "outputs": []
    },
    {
      "cell_type": "markdown",
      "metadata": {
        "id": "Z7Mb38NBs7u7"
      },
      "source": [
        "##2.1. Defining a distance metric\n",
        "\n",
        "As the first significant step in data clustering, we prepare a distance metric function. Here, we implement the commonly used Euclidean distance. Although the provided function may appear lengthy due to several lines of comments, it is a simple function consisting of a single `return` statement."
      ]
    },
    {
      "cell_type": "code",
      "metadata": {
        "id": "GSklr7bLtMOn"
      },
      "source": [
        "def euclidean_distance(a, b):\n",
        "    \"\"\"\n",
        "    Takes two vectors and returns the Euclidean distance between them\n",
        "    Input: a - input vector a\n",
        "           b - input vector b\n",
        "    Output: the Euclidean distance between vectors a and b\n",
        "    \"\"\"\n",
        "    return np.sqrt(np.sum((a-b)**2))"
      ],
      "execution_count": null,
      "outputs": []
    },
    {
      "cell_type": "markdown",
      "metadata": {
        "id": "-zQJ4nehu_n5"
      },
      "source": [
        "##2.2. *k*-Means Clustering Algorithm\n",
        "\n",
        "Now let us implement the *k*-Means algorithm. We will take a close look at how the iterative procedure of *k*-means clustering, which we discussed during the class. The arguments used are as follows:\n",
        "* `X`: The data matrix.\n",
        "* `K`: The desired number of clusters.\n",
        "* `max_iter`: The maximum number of iterations for the algorithm.\n",
        "* `tol`: The threshold (tolerance) that determines whether the algorithm should continue its execution.\n",
        "* `distance_metric`: Specifies the function for measuring the distance between data points. By default, the previously defined euclidean_distance function is used for the distance_metric."
      ]
    },
    {
      "cell_type": "code",
      "metadata": {
        "id": "K5QeI8m6vMvp"
      },
      "source": [
        "def kmeans(X, K, max_iter=100, tol=0.00005, distance_metric=euclidean_distance):\n",
        "    \"\"\"\n",
        "    K-Means clustering algorithm.\n",
        "    Input: X - input data matrix\n",
        "           K - number of clusters set by the user\n",
        "           max_iter - maximum number of iteration\n",
        "           tol - minimum improvement (in terms of SSE) between consecutive iterations\n",
        "           distance_metric - function for distance metric\n",
        "    Output: c - cluster assignments\n",
        "            centroids - cluster centroids\n",
        "            log_centroids - history (log) of the centroids\n",
        "            log_c - history (log) of the cluster assignments\n",
        "            log_sse - history (log) of the SSE (sum of squared errors)\n",
        "    \"\"\"\n",
        "\n",
        "    N, d = X.shape\n",
        "\n",
        "    centroids = np.zeros((K, d))\n",
        "\n",
        "    sse = np.Inf    # sum of squared error (objective)\n",
        "\n",
        "    # for bookkeeping\n",
        "    log_sse = []\n",
        "    log_c = []\n",
        "    log_centroids = []\n",
        "\n",
        "    # initialization\n",
        "    for k in range(K):\n",
        "        rand_index = rd.randint(0, N-1)\n",
        "        centroids[k] = X[rand_index]\n",
        "#     log_centroids.append(centroids)\n",
        "\n",
        "    # main process\n",
        "    for i in range(max_iter):\n",
        "\n",
        "        # update the cluster membership\n",
        "        c = []\n",
        "        for n in range(N):\n",
        "            dist_to_centroids = []\n",
        "\n",
        "            for k in range(K):\n",
        "                dist_to_centroids.append(distance_metric(X[n], centroids[k]))\n",
        "\n",
        "            c.append(np.argmin(dist_to_centroids)) # cluster membership\n",
        "        log_c.append(c)\n",
        "\n",
        "        # update the centroids\n",
        "        prev_centroids = centroids  # bookkeeping\n",
        "        centroids = np.zeros((K, d))\n",
        "        for k in range(K):\n",
        "            tmp_sum = np.zeros(d)\n",
        "            tmp_count = 0\n",
        "            for n in range(N):\n",
        "                if c[n] == k:\n",
        "                    tmp_sum += X[n]\n",
        "                    tmp_count += 1\n",
        "            centroids[k] = tmp_sum / tmp_count\n",
        "        log_centroids.append(centroids)\n",
        "\n",
        "        # estimate the sum of the squared errors (sse)\n",
        "        prev_sse = sse  # bookkeeping\n",
        "        sse = 0\n",
        "        for n in range(N):\n",
        "            sse += distance_metric(X[n], centroids[c[n]]) ** 2\n",
        "        log_sse.append(sse)\n",
        "\n",
        "        # stopping criterion\n",
        "        if prev_sse - sse < tol:\n",
        "            break\n",
        "\n",
        "    return c, centroids, log_centroids, log_c, log_sse\n",
        ""
      ],
      "execution_count": null,
      "outputs": []
    },
    {
      "cell_type": "markdown",
      "metadata": {
        "id": "Fs42XJv8x1ov"
      },
      "source": [
        "Now, let us perform clustering using the code we have written. The following code finds `k=4` data clusters and visualizes the results using a scatter plot."
      ]
    },
    {
      "cell_type": "code",
      "metadata": {
        "id": "AticUG_2yFYt",
        "colab": {
          "base_uri": "https://localhost:8080/",
          "height": 283
        },
        "outputId": "e0a6cd74-481d-4465-e553-9e7bea10bb1c"
      },
      "source": [
        "# execute the clustering algorithm (k = 4)\n",
        "clusters, centroids, _, _, _ = kmeans(X, 4)\n",
        "\n",
        "# visualize the result\n",
        "for k in range(4):\n",
        "    mask = np.equal(clusters, k)\n",
        "    plt.scatter(X[mask,0], X[mask,1])\n",
        "plt.scatter(centroids[:,0], centroids[:,1], marker='x', s = 100)"
      ],
      "execution_count": null,
      "outputs": [
        {
          "output_type": "execute_result",
          "data": {
            "text/plain": [
              "<matplotlib.collections.PathCollection at 0x7f04c8daf7d0>"
            ]
          },
          "metadata": {},
          "execution_count": 5
        },
        {
          "output_type": "display_data",
          "data": {
            "text/plain": [
              "<Figure size 432x288 with 1 Axes>"
            ],
            "image/png": "[encoded data removed]"
          },
          "metadata": {
            "needs_background": "light"
          }
        }
      ]
    },
    {
      "cell_type": "markdown",
      "metadata": {
        "id": "2G3YYUoH0A7G"
      },
      "source": [
        "Among the outputs of the *k*-means algorithm, there is a variable called `log_sse`. This is a list that records the **sum of squared errors (SSE)** measured at each iteration during the clustering process. By examining the last element of `log_sse`, you can confirm the final SSE of the generated clusters.\n"
      ]
    },
    {
      "cell_type": "code",
      "metadata": {
        "colab": {
          "base_uri": "https://localhost:8080/"
        },
        "id": "uOt-kHqe0AL0",
        "outputId": "5f89496b-b6c2-4fd2-ba37-fd2be51b72cd"
      },
      "source": [
        "# log_sse[-1] = the last element of `log_sse`\n",
        "clusters, centroids, _, _, log_sse = kmeans(X, 4);\n",
        "print(log_sse[-1])\n"
      ],
      "execution_count": null,
      "outputs": [
        {
          "output_type": "stream",
          "name": "stdout",
          "text": [
            "154.9014641609079\n"
          ]
        }
      ]
    },
    {
      "cell_type": "markdown",
      "metadata": {
        "id": "_uK0Ed-W51pJ"
      },
      "source": [
        "By varying the value of `k` in the *k*-Means algorithm and comparing the final SSE values, we can estimate the most suitable `k` value for clustering (this approach is called *elbow method*)."
      ]
    },
    {
      "cell_type": "code",
      "metadata": {
        "id": "F5kYazrCBPV3",
        "colab": {
          "base_uri": "https://localhost:8080/",
          "height": 319
        },
        "outputId": "df7eb207-dbd3-4b03-a4cd-0b6a377171dd"
      },
      "source": [
        "list_sse = np.zeros(8)\n",
        "for k in range(2,8):\n",
        "  clusters, centroids, _, _, log_sse = kmeans(X, k);\n",
        "  list_sse[k] = log_sse[-1]\n",
        "\n",
        "print(list_sse)\n",
        "plt.plot(range(2,8), list_sse[2:8])"
      ],
      "execution_count": null,
      "outputs": [
        {
          "output_type": "stream",
          "name": "stdout",
          "text": [
            "[  0.           0.         310.24828943 158.82081377  79.71662048\n",
            "  71.48566901  62.66416463  53.57289937]\n"
          ]
        },
        {
          "output_type": "execute_result",
          "data": {
            "text/plain": [
              "[<matplotlib.lines.Line2D at 0x7f04c8d1d8d0>]"
            ]
          },
          "metadata": {},
          "execution_count": 7
        },
        {
          "output_type": "display_data",
          "data": {
            "text/plain": [
              "<Figure size 432x288 with 1 Axes>"
            ],
            "image/png": "[encoded data removed]"
          },
          "metadata": {
            "needs_background": "light"
          }
        }
      ]
    },
    {
      "cell_type": "markdown",
      "metadata": {
        "id": "yuVWP0U0CnGQ"
      },
      "source": [
        "##2.3. Application to a real dataset\n",
        "\n",
        "Now, let us apply the clustering algorithm to a real dataset, instead of using randomly generated data. First, we need to mount Google Drive to access the data file. We will use the following file:\n",
        "* Mall_Customers.csv\n",
        "\n",
        "All the exercise code assumes that the data files are located under `datasets/DSCC/` in each individual's Google Drive. Open the link below to copy the data file to your personal Google Drive:\n",
        "* Data file link: https://github.com/charmgil/DSCC2023\n",
        "\n",
        "Once the file is copied, execute the following two lines of code. Then, log in with your Google account using the link that appears. Enter the authorization code shown on the screen in the blank space to connect your personal Drive with Colab."
      ]
    },
    {
      "cell_type": "code",
      "metadata": {
        "colab": {
          "base_uri": "https://localhost:8080/"
        },
        "id": "YFWO2GTlFEJA",
        "outputId": "28815372-3b41-4b0c-c302-7d0e798613ae"
      },
      "source": [
        "from google.colab import drive\n",
        "drive.mount('/content/drive')"
      ],
      "execution_count": null,
      "outputs": [
        {
          "output_type": "stream",
          "name": "stdout",
          "text": [
            "Mounted at /content/drive\n"
          ]
        }
      ]
    },
    {
      "cell_type": "markdown",
      "metadata": {
        "id": "P8DgAYzsFUFA"
      },
      "source": [
        "이제 다음의 코드를 실행시켜봅니니다. 이때 file locator는 여러분의 Google Drive 상에서 Mall_Customers.csv 파일의 위치가 되도록해야 합니다."
      ]
    },
    {
      "cell_type": "code",
      "metadata": {
        "colab": {
          "base_uri": "https://localhost:8080/"
        },
        "id": "23yGrsmXFhlP",
        "outputId": "3cc580ed-54da-4396-c209-79fc3ff91189"
      },
      "source": [
        "my_data = np.genfromtxt('drive/MyDrive/datasets/DSCC/Mall_Customers.csv', delimiter=',', skip_header=1)\n",
        "# print(my_data)\n",
        "N, d = my_data.shape\n",
        "print(N)\n",
        "print(d)\n",
        "\n",
        "from scipy import stats\n",
        "stats.describe(my_data)"
      ],
      "execution_count": null,
      "outputs": [
        {
          "output_type": "stream",
          "name": "stdout",
          "text": [
            "200\n",
            "4\n"
          ]
        },
        {
          "output_type": "execute_result",
          "data": {
            "text/plain": [
              "DescribeResult(nobs=200, minmax=(array([ 0., 18., 15.,  1.]), array([  1.,  70., 137.,  99.])), mean=array([ 0.56, 38.85, 60.56, 50.2 ]), variance=array([2.47638191e-01, 1.95133166e+02, 6.89835578e+02, 6.66854271e+02]), skewness=array([-0.24174689,  0.48191947,  0.31942368, -0.04686531]), kurtosis=array([-1.94155844, -0.68475139, -0.12589283, -0.83595827]))"
            ]
          },
          "metadata": {},
          "execution_count": 9
        }
      ]
    },
    {
      "cell_type": "markdown",
      "metadata": {
        "id": "42yAvBM4GNJe"
      },
      "source": [
        "###Data normalization\n",
        "\n",
        "Before providing data to the *k*-means clustering algorithm, it is essential to go through the normalization process. Below, we have written a simple normalization function and will use it to perform data normalization."
      ]
    },
    {
      "cell_type": "code",
      "metadata": {
        "id": "Pp7YBmDfGrRy"
      },
      "source": [
        "def normalize(X):\n",
        "  return (X - X.mean(axis=0)) / X.std(axis=0)\n",
        "\n",
        "X = normalize(my_data)"
      ],
      "execution_count": null,
      "outputs": []
    },
    {
      "cell_type": "markdown",
      "metadata": {
        "id": "k2yMrpoYG-pj"
      },
      "source": [
        "###Clustering\n",
        "Let us finally perform data clustering using the *k*-means algorithm. In the following code, we will use `k=5`."
      ]
    },
    {
      "cell_type": "code",
      "metadata": {
        "id": "ScBdhuULHVJf",
        "colab": {
          "base_uri": "https://localhost:8080/"
        },
        "outputId": "e5d6a8c3-43be-4737-b069-565dffbf241c"
      },
      "source": [
        "clusters, centroids, _, _, log_sse = kmeans(X, 5)\n",
        "print(clusters)"
      ],
      "execution_count": null,
      "outputs": [
        {
          "output_type": "stream",
          "name": "stdout",
          "text": [
            "[1, 1, 1, 1, 1, 1, 4, 1, 2, 1, 2, 1, 4, 1, 0, 1, 1, 1, 2, 1, 0, 1, 4, 1, 4, 1, 4, 1, 4, 1, 2, 1, 2, 1, 4, 1, 4, 1, 4, 1, 4, 1, 2, 1, 4, 1, 4, 1, 1, 1, 4, 0, 1, 2, 4, 2, 4, 2, 1, 2, 2, 0, 4, 4, 2, 0, 4, 4, 0, 1, 2, 4, 4, 4, 2, 0, 4, 0, 1, 4, 2, 0, 2, 4, 1, 2, 4, 1, 1, 4, 4, 0, 2, 4, 4, 0, 4, 1, 2, 0, 1, 4, 2, 0, 2, 1, 4, 2, 2, 2, 2, 1, 4, 0, 1, 1, 4, 4, 4, 4, 0, 4, 4, 3, 4, 3, 0, 3, 2, 3, 2, 3, 4, 3, 0, 3, 4, 3, 0, 3, 4, 3, 4, 3, 0, 3, 2, 3, 4, 3, 0, 3, 4, 3, 4, 3, 0, 3, 0, 3, 4, 3, 0, 3, 2, 3, 0, 3, 4, 3, 0, 3, 0, 3, 4, 3, 2, 3, 2, 3, 4, 3, 0, 3, 4, 3, 4, 3, 4, 3, 4, 3, 0, 3, 4, 3, 4, 3, 0, 3]\n"
          ]
        }
      ]
    },
    {
      "cell_type": "markdown",
      "metadata": {
        "id": "a8QDR6fDHl9U"
      },
      "source": [
        "<hr/>\n",
        "\n",
        "## Assignment\n",
        "\n",
        "1. Find and report the optimal value of *k* for the `Mall Customers` dataset, using the Elbow method.\n",
        "2. The first line of `Mall_Customers.csv` shows the column names. Using the next function named `cluster_stats()` take a statistical summary for each cluster and conduct a simple analysis on the clusters. Draw a short conclusion based on what you observed.\n"
      ]
    },
    {
      "cell_type": "code",
      "metadata": {
        "id": "gffrJX9VL5Yb"
      },
      "source": [
        "def cluster_stats(k, data, clusters):\n",
        "  np.mean(data[np.array(clusters) == k, 1])\n",
        "  print('#Male=%d, #Female=%d' % (np.sum(data[np.array(clusters) == k, 0] == 0),\n",
        "                                  np.sum(data[np.array(clusters) == k, 0] == 1)))\n",
        "  print('Avg. Age: %.2f +/- %.2f' % (np.mean(data[np.array(clusters) == k, 1]),\n",
        "                                    np.std(data[np.array(clusters) == k, 1])))\n",
        "  print('Avg. Annual Income (k$): %.2f +/- %.2f'\n",
        "        % (np.mean(data[np.array(clusters) == k, 2]),\n",
        "          np.std(data[np.array(clusters) == k, 2])))\n",
        "  print('Avg. Spending Score (1-100): %.2f +/- %.2f'\n",
        "        % (np.mean(data[np.array(clusters) == k, 3]),\n",
        "          np.std(data[np.array(clusters) == k, 3])))\n"
      ],
      "execution_count": null,
      "outputs": []
    },
    {
      "cell_type": "code",
      "metadata": {
        "id": "cwK8cvt3PRCS"
      },
      "source": [
        "# example run\n",
        "cluster_stats(0, my_data, clusters)"
      ],
      "execution_count": null,
      "outputs": []
    }
  ]
}