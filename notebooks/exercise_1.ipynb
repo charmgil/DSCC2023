{
  "cells": [
    {
      "cell_type": "markdown",
      "metadata": {
        "id": "WU3XF_P-OMGT"
      },
      "source": [
        "#1. Getting Started\n",
        "Let us begin the first exercise by familiarizing yourself with the Python programming language."
      ]
    },
    {
      "cell_type": "markdown",
      "metadata": {
        "id": "RzjIx1f-dwX_"
      },
      "source": [
        "## 1.1. Hello world!\n",
        "As a programmer, there is a ritual that we always perform when encountering a new programming language, and that is to make the computer say `Hello, world!`.\n",
        "\n",
        "The code below instructs the Python interpreter to print `Hello, world!`:"
      ]
    },
    {
      "cell_type": "code",
      "execution_count": null,
      "metadata": {
        "colab": {
          "base_uri": "https://localhost:8080/",
          "height": 34
        },
        "id": "z0YlWkhbhZwG",
        "outputId": "484c437f-762c-4bf0-d612-5a1d03d379b3"
      },
      "outputs": [
        {
          "name": "stdout",
          "output_type": "stream",
          "text": [
            "Hello, world!\n"
          ]
        }
      ],
      "source": [
        "print(\"Hello, world!\")"
      ]
    },
    {
      "cell_type": "markdown",
      "metadata": {
        "id": "I0rQdywxkeFx"
      },
      "source": [
        "##1.2. Comments\n",
        "You can leave comments using the hash symbol (''#''). The hash symbol instructs the interpreter to ignore all the remaining characters on that line."
      ]
    },
    {
      "cell_type": "code",
      "execution_count": null,
      "metadata": {
        "colab": {
          "base_uri": "https://localhost:8080/",
          "height": 34
        },
        "id": "8eE9tUXokgv7",
        "outputId": "f5914a0d-3125-4b87-f7f9-4064e57d166b"
      },
      "outputs": [
        {
          "name": "stdout",
          "output_type": "stream",
          "text": [
            "This is not a comment\n"
          ]
        }
      ],
      "source": [
        "# This is a Python comment\n",
        "print(\"This is not a comment\")  # This is a comment"
      ]
    },
    {
      "cell_type": "markdown",
      "metadata": {
        "id": "DzfgpMiijhZx"
      },
      "source": [
        "##1.3. Variables: Scalar Data Types\n",
        "In Python, all data types are represented as objects. Every object has one data type associated with it. Data types can be divided into two categories: **scalar** and **non-scalar**. Scalar objects refer to the fundamental, indivisible data types in Python. You can think of them as the atoms of data representation. If you've ever considered Java's primitive data types, the analogy holds true here.\n",
        "\n",
        "Python has four types of scalar data types:\n",
        "* `int`: Used to represent integers.\n",
        "* `float`: Used to represent real numbers (floating-point numbers).\n",
        "* `bool`: Used to represent Boolean values, `True` or `False`.\n",
        "* `None`: A data type representing null, with only one possible value: `None`.\n",
        "\n",
        "You can use the built-in Python function `type()` to determine the data type of an object.\n",
        "\n",
        "\n",
        "#### Basic Operators\n",
        "For variables of types `int` and `float`, the following operators can be used:\n",
        "* `i + j`: Calculates the sum of `i` and `j`.\n",
        "* `i - j`: Calculates the difference between `i` and `j`.\n",
        "* `i * j`: Calculates the product of `i` and `j`.\n",
        "* `i / j`: Returns the result of `i` divided by `j` as a float (auto type casting). If `j` is 0, an error occurs.\n",
        "* `i // j`: Returns the floor division result of `i` by `j` (truncates the decimal part).\n",
        "* `i % j`: Calculates the remainder when `i` is divided by `j`.\n",
        "* `i ** j`: Calculates `i` raised to the power of `j`.\n",
        "\n",
        "\n",
        "For variables of type `bool`, the following operators can be used:\n",
        "* `i and j`: Returns `True` only if both `i` and `j` are `True`, otherwise returns `False`.\n",
        "* `i or j`: Returns `False` only if both `i` and `j` are `False`, otherwise returns `True`.\n",
        "* `not i`: Returns False if `i` is `True`, and `True` if `i` is `False`.\n",
        "\n"
      ]
    },
    {
      "cell_type": "code",
      "execution_count": null,
      "metadata": {
        "colab": {
          "base_uri": "https://localhost:8080/",
          "height": 408
        },
        "id": "N1wu8l_IjjWz",
        "outputId": "f0bec53f-2a5b-42ec-cfa9-def4abcf3021"
      },
      "outputs": [
        {
          "name": "stdout",
          "output_type": "stream",
          "text": [
            "int_a = 4\n",
            "int_b = 5\n",
            "int_a + int_b = 9\n",
            "float_c = 3.1\n",
            "float_d = 2.7\n",
            "float_c + float_d = 5.800000000000001\n",
            "bool_eq = True\n",
            "var_none = None\n",
            "<class 'int'>\n",
            "<class 'float'>\n",
            "<class 'bool'>\n",
            "<class 'NoneType'>\n",
            "int_a/int_b = 0.8\n",
            "int_a//int_b = 0\n",
            "float_c/float_d = 1.1481481481481481\n",
            "float_c//float_d = 1.0\n",
            "int_a/int_b = 0.8\n",
            "bool_x = True\n",
            "not bool_x = False\n",
            "bool_x and bool_x = True\n",
            "bool_x and not bool_x = False\n",
            "bool_x or bool_x = True\n",
            "bool_x or not bool_x = True\n"
          ]
        }
      ],
      "source": [
        "# Variable declaration\n",
        "int_a = 4\n",
        "int_b = 5\n",
        "\n",
        "float_c = 3.1\n",
        "float_d = 2.7\n",
        "\n",
        "bool_eq = (int_a != int_b)\n",
        "\n",
        "var_none = None\n",
        "\n",
        "print('int_a =', int_a)\n",
        "print('int_b =', int_b)\n",
        "print('int_a + int_b =', int_a+int_b)\n",
        "\n",
        "print('float_c =', float_c)\n",
        "print('float_d =', float_d)\n",
        "print('float_c + float_d =', float_c+float_d)\n",
        "\n",
        "print('bool_eq =', bool_eq)\n",
        "\n",
        "print('var_none =', var_none)\n",
        "\n",
        "print(type(int_a))\n",
        "print(type(float_c))\n",
        "print(type(bool_eq))\n",
        "print(type(var_none))\n",
        "\n",
        "print('int_a/int_b =', int_a/int_b)\n",
        "print('int_a//int_b =', int_a//int_b)\n",
        "\n",
        "print('float_c/float_d =', float_c/float_d)\n",
        "print('float_c//float_d =', float_c//float_d)\n",
        "\n",
        "print('int_a/int_b =', int_a/int_b)\n",
        "\n",
        "bool_x = True\n",
        "\n",
        "print('bool_x =', bool_x)\n",
        "print('not bool_x =', not bool_x)\n",
        "print('bool_x and bool_x =', bool_x and bool_x)\n",
        "print('bool_x and not bool_x =', bool_x and not bool_x)\n",
        "print('bool_x or bool_x =', bool_x or bool_x)\n",
        "print('bool_x or not bool_x =', bool_x or not bool_x)"
      ]
    },
    {
      "cell_type": "markdown",
      "metadata": {
        "id": "Zbfe3czQazbB"
      },
      "source": [
        "##1.4. Variables: Common Non-Scalar Data Types\n",
        "All data types, except the four scalar data types mentioned above, fall into the category of **non-scalar** data types (if you are familiar with structures in C, or classes in Java or C++, the analogy holds true)."
      ]
    },
    {
      "cell_type": "markdown",
      "metadata": {
        "id": "phcrDMZrlSWb"
      },
      "source": [
        "###1.4.1. Strings\n",
        "\n",
        "Python represents **strings** using either single quotes (') or double quotes (\").\n",
        "You can also create *multi-line strings* by repeating the single or double quotes three times.\n",
        "\n",
        "\n",
        "\n",
        "#### String Operators\n",
        "Python은 연산자 오버로딩을 이용하여 일반적인 수식 연산자들을 스트링 타입의 변수에도 사용 가능하도록 해두었습니다.\n",
        "*    str1 + str2: + 연산자를 사용하여 두 개의 스트링을 합칠 수 있습니다 (string concatenation).\n",
        "*    str1 * n: * 연산자는 스트링을 반복합니다.\n",
        "*    str1[n]: 스트링 안에서 인덱스를 지정할 수 있습니다.\n",
        "*    str1[n:m]: 스트링 안에서 인덱스의 범위를 지정할 수도 있습니다. Python에서는 이러한 범위 지정을 가리켜 slicing이라고 합니다.\n",
        "\n",
        "Python allows you to use common arithmetic operators with string type variables by using operator overloading.\n",
        "* `str1 + str2`: Concatenates two strings using the `+` operator (string concatenation).\n",
        "* `str1 * n`: Repeats the string `str1` `n` times using the `*` operator.\n",
        "* `str1[n]`: Accesses a specific character in the string by index.\n",
        "* `str1[n:m]`: Specifies a range of indices within the string. In Python, this is referred to as slicing.\n",
        "\n"
      ]
    },
    {
      "cell_type": "code",
      "execution_count": null,
      "metadata": {
        "colab": {
          "base_uri": "https://localhost:8080/",
          "height": 255
        },
        "id": "O1IrofYElT9Y",
        "outputId": "32d538b8-0d4e-4105-db50-523496ae7eba"
      },
      "outputs": [
        {
          "name": "stdout",
          "output_type": "stream",
          "text": [
            "a string\n",
            "another string\n",
            "\n",
            "This is a multi-line string\n",
            "that spans over\n",
            "a single line\n",
            "\n",
            "s = Pohang\n",
            "s + s = PohangPohang\n",
            "s * 3 = PohangPohangPohang\n",
            "s[2] = h\n",
            "s[0:2] = Po\n",
            "s[2:] = hang\n",
            "s[:3] = Poh\n"
          ]
        }
      ],
      "source": [
        "\n",
        "s = \"a string\"\n",
        "print(s)\n",
        "\n",
        "s = 'another string'\n",
        "print(s)\n",
        "\n",
        "\n",
        "sss = \"\"\"\n",
        "This is a multi-line string\n",
        "that spans over\n",
        "a single line\n",
        "\"\"\"\n",
        "print(sss)\n",
        "\n",
        "\n",
        "s = \"Pohang\"\n",
        "print('s =', s)\n",
        "print('s + s =', s+s)\n",
        "print('s * 3 =', s*3)\n",
        "print('s[2] =', s[2])\n",
        "print('s[0:2] =', s[0:2])\n",
        "print('s[2:] =', s[2:])\n",
        "print('s[:3] =', s[:3])"
      ]
    },
    {
      "cell_type": "markdown",
      "metadata": {
        "id": "vcYrYlQtbrDy"
      },
      "source": [
        "###1.4.2. Tuples\n",
        "\n",
        "A tuple is similar to a string in that it is an ordered sequence of elements. However, the key difference between tuples and strings is that the elements in a tuple can be of any data type, not just characters. Any data type can be an element of a tuple, and the elements do not need to be of the same data type.\n",
        "\n",
        "Tuples are represented using parentheses `()`. Each element is separated by a comma (,). Similar to strings, operators like `+`, `*`, `[]`, and others can be used with tuples."
      ]
    },
    {
      "cell_type": "code",
      "execution_count": null,
      "metadata": {
        "colab": {
          "base_uri": "https://localhost:8080/",
          "height": 153
        },
        "id": "0xf5mQJXcTt_",
        "outputId": "0bd48a4f-f547-4ba3-e4a0-f8f89aa77922"
      },
      "outputs": [
        {
          "name": "stdout",
          "output_type": "stream",
          "text": [
            "()\n",
            "(1, 'two', 3)\n",
            "(1, 'two', 3, 1, 'two', 3)\n",
            "two\n",
            "1\n",
            "(1, 'two', 3)\n",
            "(1, 'two')\n",
            "('two', 3, 1)\n"
          ]
        }
      ],
      "source": [
        "# tuples\n",
        "t1 = () # an empty tuple\n",
        "t2 = (1, 'two', 3)\n",
        "\n",
        "print(t1)\n",
        "print(t2)\n",
        "print(t2+t2)\n",
        "print(t2[1])\n",
        "print((t2+t2)[3])\n",
        "print((t2+t2)[3:])\n",
        "print((t2+t2)[:2])\n",
        "print((t2+t2)[1:4])"
      ]
    },
    {
      "cell_type": "markdown",
      "metadata": {
        "id": "ILRDT3QSa3ay"
      },
      "source": [
        "###1.4.3. Lists\n",
        "Similar to tuples, lists represent an ordered sequence of values, and you can differentiate each value using an index. Lists are represented using square brackets `[]`.\n",
        "\n",
        "####The Mutability of Lists\n",
        "Lists have a significant difference compared to the previous two data types. Lists are **mutable**, meaning they can be changed after being declared. On the other hand, tuples and strings are immutable, which means they cannot be modified once defined.\n",
        "\n"
      ]
    },
    {
      "cell_type": "code",
      "execution_count": null,
      "metadata": {
        "colab": {
          "base_uri": "https://localhost:8080/",
          "height": 140
        },
        "id": "Y_esI6lzeULR",
        "outputId": "10ea8900-127b-4e50-e7c7-bfe84eb04e85"
      },
      "outputs": [
        {
          "name": "stdout",
          "output_type": "stream",
          "text": [
            "['I did', 'it', 'all', 4, 'love']\n",
            "['I did', 'it', 'all', 4, 'love', 'I did', 'it', 'all', 4, 'love']\n",
            "all\n",
            "['it']\n",
            "['all', 4]\n",
            "[4, 'love']\n",
            "['I did', 'it', 'all']\n"
          ]
        }
      ],
      "source": [
        "# lists\n",
        "l1 = [] # an empty list\n",
        "l2 = ['I did', 'it', 'all', 4, 'love']\n",
        "\n",
        "print(l2)\n",
        "print(l2 + l2)\n",
        "print(l2[2])\n",
        "print(l2[1:2])\n",
        "print(l2[2:4])\n",
        "print(l2[3:])\n",
        "print(l2[:3])"
      ]
    },
    {
      "cell_type": "markdown",
      "metadata": {
        "id": "daVduNiTfmTw"
      },
      "source": [
        "###1.4.4. Dictionaries\n",
        "\n",
        "Python provides a built-in hashtable-style data type, which is known as a dictionary. When using variables of the dictionary type, unlike in tuples or lists, you can use non-integer indices. Dictionary elements are represented as key-value pairs. In other words, each element has a value associated with it, and it can be indexed using its key.\n",
        "\n",
        "Dictionaries are expressed using curly braces {}. Keys and values are separated by a colon (:)."
      ]
    },
    {
      "cell_type": "code",
      "execution_count": null,
      "metadata": {
        "colab": {
          "base_uri": "https://localhost:8080/",
          "height": 51
        },
        "id": "t99gnWOkgnDN",
        "outputId": "2b02603f-9c41-43e3-a160-fb9764672003"
      },
      "outputs": [
        {
          "name": "stdout",
          "output_type": "stream",
          "text": [
            "The third month is March\n",
            "April is the 4-th month\n"
          ]
        }
      ],
      "source": [
        "Months = {'Jan':1, 'Feb':2, 'Mar':3, 'Apr':4, 'May': 5, 1:'January', 2:'February', 3:'March', 4:'April', 5:'May'}\n",
        "\n",
        "print(\"The third month is \" + Months[3])\n",
        "print(\"April is the %d-th month\" % Months['Apr'])\n"
      ]
    },
    {
      "cell_type": "markdown",
      "metadata": {
        "id": "fImfKbsyhyVO"
      },
      "source": [
        "You can also examine each element stored in a dictionary by accessing them through the keys. Using the `keys()` function provided by dictionaries, you can retrieve all the keys stored in the dictionary.\n",
        "\n"
      ]
    },
    {
      "cell_type": "code",
      "execution_count": null,
      "metadata": {
        "colab": {
          "base_uri": "https://localhost:8080/",
          "height": 187
        },
        "id": "YQAm_U92hsUs",
        "outputId": "04a02ebc-c053-408e-d01d-454debecef9b"
      },
      "outputs": [
        {
          "name": "stdout",
          "output_type": "stream",
          "text": [
            "1\n",
            "2\n",
            "3\n",
            "4\n",
            "5\n",
            "January\n",
            "February\n",
            "March\n",
            "April\n",
            "May\n"
          ]
        }
      ],
      "source": [
        "for key in Months.keys():\n",
        "  print(Months[key])"
      ]
    },
    {
      "cell_type": "markdown",
      "metadata": {
        "id": "m1Xn2DdHhYuR"
      },
      "source": [
        "##1.5. Python Controls\n",
        "Python에서는 분기(branch)와 반복(iteration)을 제공하여 flow를 정의할 수 있게 합니다. 분기를 정의하기 위해 if, elif, else 등의 키워드를 사용하며, 반복을 정의하기 위해 while과 for 등의 키워드를 사용합니다. Python에서 switch 구문은 제공하지 않습니다.\n",
        "\n",
        "Python에서 **들여쓰기**(indentation)는 코드의 scope을 정의합니다. C나 Java 등의 언어에서 중괄호 { }와 그 역할이 같습니다.\n",
        "\n",
        "\n",
        "\n",
        "Python provides **branching** and **iteration** constructs to define the *flow* of a program. To define branching, keywords like `if`, `elif`, and `else` are used, whereas for iteration, keywords such as `while` and `for` are used. Note that Python does not have a `switch` statement.\n",
        "\n",
        "In Python, **indentation** is used to define the scope of the code. It plays a similar role to the curly braces `{ }` in languages like C or Java."
      ]
    },
    {
      "cell_type": "markdown",
      "metadata": {
        "id": "8hr78zMaQzd-"
      },
      "source": [
        "###1.5.1. `if/elif/else`"
      ]
    },
    {
      "cell_type": "code",
      "execution_count": null,
      "metadata": {
        "colab": {
          "base_uri": "https://localhost:8080/",
          "height": 34
        },
        "id": "0K3MdWpTdtFx",
        "outputId": "0e073f3c-e648-45f9-a094-3662de001376"
      },
      "outputs": [
        {
          "name": "stdout",
          "output_type": "stream",
          "text": [
            "a == 0\n"
          ]
        }
      ],
      "source": [
        "# if / else if / else\n",
        "a = 0\n",
        "\n",
        "if a == 1:\n",
        "  print(\"a == 1\")\n",
        "elif a == 0:\n",
        "  print(\"a == 0\")\n",
        "else:\n",
        "  print(\"a == something else\")"
      ]
    },
    {
      "cell_type": "code",
      "execution_count": null,
      "metadata": {
        "colab": {
          "base_uri": "https://localhost:8080/",
          "height": 34
        },
        "id": "wdjhsK2yTmLA",
        "outputId": "ce7b43ce-5991-47c2-f997-ad8928767366"
      },
      "outputs": [
        {
          "name": "stdout",
          "output_type": "stream",
          "text": [
            "a is positive and divisible by both 3 and 9\n"
          ]
        }
      ],
      "source": [
        "# Nested if / else if / else\n",
        "a = 9\n",
        "\n",
        "if a > 0:\n",
        "  if a % 3 == 0:\n",
        "    if a % 9 == 0:\n",
        "      print('a is positive and divisible by both 3 and 9')\n",
        "    else:\n",
        "      print('a is positive and divisible by 3')\n",
        "  else:\n",
        "    print('a is a positive number')\n",
        "elif a == 0:\n",
        "  print('a is zero')\n",
        "else:\n",
        "  print('a is a negative number')"
      ]
    },
    {
      "cell_type": "markdown",
      "metadata": {
        "id": "y5zhyaqmlqKD"
      },
      "source": [
        "###1.5.2. `for`\n",
        "\n",
        "The `for` loop in Python is often used with the `range()` function to control its iteration. The `range()` function generates a sequence based on the number of arguments provided:\n",
        "* `range(stop)`: When the function has one argument, it generates a sequence starting from 0 up to (but not including) the `stop` value, increasing by 1 for each step.\n",
        "* `range(start, stop)`: When the function has two arguments, it generates a sequence starting from the `start` value up to (but not including) the `stop` value, increasing by 1 for each step.\n",
        "* `range(start, stop, step)`: When the function has three arguments, it generates a sequence starting from the `start` value up to (but not including) the `stop` value, increasing by the specified `step` for each iteration.\n",
        "\n",
        "That is, in a `for` loop, you can use the `range()` function to define the range of values over which the loop iterates. The loop will execute its code block for each value in the specified range.\n"
      ]
    },
    {
      "cell_type": "code",
      "execution_count": null,
      "metadata": {
        "colab": {
          "base_uri": "https://localhost:8080/",
          "height": 102
        },
        "id": "ulNuG72AlvLL",
        "outputId": "a86d0081-9e5d-4444-83ff-9534d07b2993"
      },
      "outputs": [
        {
          "name": "stdout",
          "output_type": "stream",
          "text": [
            "0\n",
            "1\n",
            "2\n",
            "3\n",
            "4\n"
          ]
        }
      ],
      "source": [
        "# for\n",
        "for i in range(5):\n",
        "  print(i)"
      ]
    },
    {
      "cell_type": "code",
      "execution_count": null,
      "metadata": {
        "colab": {
          "base_uri": "https://localhost:8080/",
          "height": 102
        },
        "id": "Et8WOwHSaTAo",
        "outputId": "01f7ca17-9147-4c2e-dafe-3b8204ebb5fe"
      },
      "outputs": [
        {
          "name": "stdout",
          "output_type": "stream",
          "text": [
            "2\n",
            "3\n",
            "4\n",
            "5\n",
            "6\n"
          ]
        }
      ],
      "source": [
        "# for\n",
        "for i in range(2, 7):\n",
        "  print(i)"
      ]
    },
    {
      "cell_type": "code",
      "execution_count": null,
      "metadata": {
        "colab": {
          "base_uri": "https://localhost:8080/",
          "height": 102
        },
        "id": "EbC8IQbNZoo9",
        "outputId": "9ad1e28d-d392-4ad0-8e7f-3a3f311c12da"
      },
      "outputs": [
        {
          "name": "stdout",
          "output_type": "stream",
          "text": [
            "-5\n",
            "-3\n",
            "-1\n",
            "1\n",
            "3\n"
          ]
        }
      ],
      "source": [
        "# for\n",
        "for i in range(-5, 5, 2):\n",
        "  print(i)"
      ]
    },
    {
      "cell_type": "markdown",
      "metadata": {
        "id": "OginT4OVetDV"
      },
      "source": [
        "You can also define a `for` loop using lists or tuples."
      ]
    },
    {
      "cell_type": "code",
      "execution_count": null,
      "metadata": {
        "colab": {
          "base_uri": "https://localhost:8080/",
          "height": 119
        },
        "id": "s1DIT9NBexmz",
        "outputId": "330e64f4-b064-450b-e47c-28a96adb42d4"
      },
      "outputs": [
        {
          "name": "stdout",
          "output_type": "stream",
          "text": [
            "A\n",
            "B\n",
            "C\n",
            "hana\n",
            "one\n",
            "1\n"
          ]
        }
      ],
      "source": [
        "l1 = ['A','B','C']\n",
        "for item in l1:\n",
        "  print(item)\n",
        "\n",
        "t1 = ('hana', 'one', 1)\n",
        "for item in t1:\n",
        "  print(item)"
      ]
    },
    {
      "cell_type": "markdown",
      "metadata": {
        "id": "vestLVMnU2nX"
      },
      "source": [
        "###1.5.3. `while`\n",
        "\n",
        "The while loop in Python is used to execute a block of code repeatedly as long as a specified condition remains `True`. It is important to ensure that the condition eventually becomes `False`, otherwise, the loop will continue indefinitely, resulting in an infinite loop."
      ]
    },
    {
      "cell_type": "code",
      "execution_count": null,
      "metadata": {
        "colab": {
          "base_uri": "https://localhost:8080/",
          "height": 34
        },
        "id": "4d_NP49SU722",
        "outputId": "10d306f4-c5e4-4183-d2f1-383bf476e034"
      },
      "outputs": [
        {
          "name": "stdout",
          "output_type": "stream",
          "text": [
            "55\n"
          ]
        }
      ],
      "source": [
        "# while\n",
        "x = 10\n",
        "sum_to_ten = 0\n",
        "while x > 0:\n",
        "  sum_to_ten += x\n",
        "  x -= 1\n",
        "\n",
        "print(sum_to_ten)"
      ]
    },
    {
      "cell_type": "markdown",
      "metadata": {
        "id": "7CMLT4yyVsN2"
      },
      "source": [
        "##1.6. Functions"
      ]
    },
    {
      "cell_type": "markdown",
      "metadata": {
        "id": "J9_5Q6gMVwRV"
      },
      "source": [
        "In Python, functions are defined using the keyword `def`. Similar to the control components above, the scope is indicated by using **indentation**.\n",
        "\n",
        "\n",
        "\n",
        "\n"
      ]
    },
    {
      "cell_type": "code",
      "execution_count": null,
      "metadata": {
        "colab": {
          "base_uri": "https://localhost:8080/",
          "height": 51
        },
        "id": "FK738Dk8WAPa",
        "outputId": "70b14534-9bf0-42aa-ce50-79bb6c399781"
      },
      "outputs": [
        {
          "name": "stdout",
          "output_type": "stream",
          "text": [
            "Are you with me?\n",
            "ho-\n"
          ]
        }
      ],
      "source": [
        "def say_ho():\n",
        "  print('ho-')\n",
        "\n",
        "print('Are you with me?')\n",
        "say_ho()"
      ]
    },
    {
      "cell_type": "markdown",
      "metadata": {
        "id": "nwy5jJvHWRxT"
      },
      "source": [
        "def statement의 괄호를 사용하여 함수의 arguments를 정의할 수 있습니다.\n",
        "또한 return 키워드를 사용하여 원하는 지점에서 return을 정의할 수도 있습니다. return 값을 위한 함수의 타입을 정의할 필요는 없습니다."
      ]
    },
    {
      "cell_type": "code",
      "execution_count": null,
      "metadata": {
        "colab": {
          "base_uri": "https://localhost:8080/",
          "height": 34
        },
        "id": "hAPSJFQjWavX",
        "outputId": "cd937346-36dc-4485-fccd-bbc2a65dd187"
      },
      "outputs": [
        {
          "name": "stdout",
          "output_type": "stream",
          "text": [
            "maxVal(3,8)? 8\n"
          ]
        }
      ],
      "source": [
        "def maxVal(x, y):\n",
        "  if x > y:\n",
        "    return x\n",
        "\n",
        "  return y\n",
        "\n",
        "print('maxVal(3,8)?', maxVal(3,8))"
      ]
    },
    {
      "cell_type": "markdown",
      "metadata": {
        "id": "YB1K6d2dW5Nr"
      },
      "source": [
        "In Python, you can also return multiple variables simultaneously. In the following example, we use the `%s` string placeholder to substitute the variables."
      ]
    },
    {
      "cell_type": "code",
      "execution_count": null,
      "metadata": {
        "colab": {
          "base_uri": "https://localhost:8080/",
          "height": 34
        },
        "id": "D5X-akwXXAPg",
        "outputId": "e9558cf8-5b32-4b27-9f79-ae769e4ab2b7"
      },
      "outputs": [
        {
          "name": "stdout",
          "output_type": "stream",
          "text": [
            "Hello, Mr. Stockton. I got your firstname Mike as well.\n"
          ]
        }
      ],
      "source": [
        "def getName():\n",
        "  firstname = 'Mike'\n",
        "  lastname = 'Stockton'\n",
        "\n",
        "  return firstname, lastname\n",
        "\n",
        "name_first, name_last = getName()\n",
        "print('Hello, Mr. %s. I got your firstname %s as well.' % (name_last, name_first))"
      ]
    },
    {
      "cell_type": "markdown",
      "metadata": {
        "id": "OFj7tarlW-zm"
      },
      "source": [
        "#### Recursion\n",
        "Using the fundamental elements of defining functions, we can also define *recursive* functions in Python. The following example demonstrates the sum of integers from 1 to `n`."
      ]
    },
    {
      "cell_type": "code",
      "execution_count": null,
      "metadata": {
        "colab": {
          "base_uri": "https://localhost:8080/",
          "height": 51
        },
        "id": "MnlN285QYcP_",
        "outputId": "ed6c0098-584e-48fa-f83c-a06ca89885b9"
      },
      "outputs": [
        {
          "name": "stdout",
          "output_type": "stream",
          "text": [
            "sum_to_ten(10) = 55\n",
            "sum_to_ten(5) = 15\n"
          ]
        }
      ],
      "source": [
        "def sum_to_ten(n):\n",
        "  if n < 1:\n",
        "    return 0\n",
        "  return sum_to_ten(n-1) + n\n",
        "\n",
        "print('sum_to_ten(10) =', sum_to_ten(10))\n",
        "print('sum_to_ten(9) =', sum_to_ten(9))\n",
        "print('sum_to_ten(5) =', sum_to_ten(5))"
      ]
    },
    {
      "cell_type": "markdown",
      "metadata": {
        "id": "QBbSDaexTHRP"
      },
      "source": [
        "<hr/>\n",
        "\n",
        "##Assignment\n",
        "\n",
        "1. Write a function `right_triangle(n)` that takes an integer `n` and prints out a right triangle of height `n` as in the following examples.\n",
        "\n",
        "> `right_triangle(3)` <br/>\n",
        "> `#` <br/>\n",
        "> `# #` <br/>\n",
        "> `# # #` <br/>\n",
        "\n",
        "> `right_triangle(5)` <br/>\n",
        "> `#` <br/>\n",
        "> `# #` <br/>\n",
        "> `# # #` <br/>\n",
        "> `# # # #` <br/>\n",
        "> `# # # # #` <br/>\n",
        "\n",
        "\n",
        "2. Write a recursive function `palindrome(str)` that takes a string `str` and returns the following:\n",
        "- a Boolean value (`True`/`False`) indicating whether `str` is a palindrome\n",
        "- a string that reverses `str`\n",
        "\n",
        "> `a, b = palindrome('apple')` returns `a = False` and `b = 'elppa'`\n",
        "\n",
        "> `c, d = palindrome('radar')` returns `c = True` and `d = 'radar'`"
      ]
    }
  ],
  "metadata": {
    "colab": {
      "provenance": []
    },
    "kernelspec": {
      "display_name": "Python 3 (ipykernel)",
      "language": "python",
      "name": "python3"
    },
    "language_info": {
      "codemirror_mode": {
        "name": "ipython",
        "version": 3
      },
      "file_extension": ".py",
      "mimetype": "text/x-python",
      "name": "python",
      "nbconvert_exporter": "python",
      "pygments_lexer": "ipython3",
      "version": "3.9.13"
    }
  },
  "nbformat": 4,
  "nbformat_minor": 0
}